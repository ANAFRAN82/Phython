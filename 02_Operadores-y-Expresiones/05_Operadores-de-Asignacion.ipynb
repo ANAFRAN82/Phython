{
 "cells": [
  {
   "cell_type": "markdown",
   "id": "6b14a094",
   "metadata": {},
   "source": [
    "# Operadores de Asignacion\n",
    "\n",
    "Actuan directamente sobre la variable actual modificando su valor."
   ]
  },
  {
   "cell_type": "code",
   "execution_count": 1,
   "id": "da373298",
   "metadata": {},
   "outputs": [],
   "source": [
    "a = 0"
   ]
  },
  {
   "cell_type": "code",
   "execution_count": 2,
   "id": "16f8dc5b",
   "metadata": {},
   "outputs": [],
   "source": [
    "a += 5 # Suma y asigna"
   ]
  },
  {
   "cell_type": "code",
   "execution_count": 3,
   "id": "00923d69",
   "metadata": {},
   "outputs": [
    {
     "data": {
      "text/plain": [
       "5"
      ]
     },
     "execution_count": 3,
     "metadata": {},
     "output_type": "execute_result"
    }
   ],
   "source": [
    "a"
   ]
  },
  {
   "cell_type": "code",
   "execution_count": 5,
   "id": "8d3cd58b",
   "metadata": {},
   "outputs": [
    {
     "data": {
      "text/plain": [
       "-15"
      ]
     },
     "execution_count": 5,
     "metadata": {},
     "output_type": "execute_result"
    }
   ],
   "source": [
    "a -= 10 #Resta y asigna\n",
    "a"
   ]
  },
  {
   "cell_type": "code",
   "execution_count": 8,
   "id": "c63959b8",
   "metadata": {},
   "outputs": [
    {
     "data": {
      "text/plain": [
       "10"
      ]
     },
     "execution_count": 8,
     "metadata": {},
     "output_type": "execute_result"
    }
   ],
   "source": [
    "a = 5\n",
    "a *=2 # Multiplica y asigna\n",
    "a"
   ]
  },
  {
   "cell_type": "code",
   "execution_count": 9,
   "id": "91a7e5a1",
   "metadata": {},
   "outputs": [
    {
     "data": {
      "text/plain": [
       "5.0"
      ]
     },
     "execution_count": 9,
     "metadata": {},
     "output_type": "execute_result"
    }
   ],
   "source": [
    "a /= 2 #Divide y asigna\n",
    "a"
   ]
  },
  {
   "cell_type": "code",
   "execution_count": 10,
   "id": "6f16c39e",
   "metadata": {},
   "outputs": [
    {
     "data": {
      "text/plain": [
       "1.0"
      ]
     },
     "execution_count": 10,
     "metadata": {},
     "output_type": "execute_result"
    }
   ],
   "source": [
    "a %= 2 # Modulo y asigna\n",
    "a"
   ]
  },
  {
   "cell_type": "code",
   "execution_count": 11,
   "id": "92add2e7",
   "metadata": {},
   "outputs": [
    {
     "data": {
      "text/plain": [
       "3125"
      ]
     },
     "execution_count": 11,
     "metadata": {},
     "output_type": "execute_result"
    }
   ],
   "source": [
    "a = 5\n",
    "a **= 5\n",
    "a"
   ]
  },
  {
   "cell_type": "markdown",
   "id": "2ffc63ec",
   "metadata": {},
   "source": [
    "# Repaso\n",
    "\n",
    "¿Que expresiones eres capaz de identificar?"
   ]
  },
  {
   "cell_type": "code",
   "execution_count": 14,
   "id": "efee93ae",
   "metadata": {},
   "outputs": [
    {
     "name": "stdout",
     "output_type": "stream",
     "text": [
      "0 es un numero par\n",
      "1 es un numero impar\n",
      "2 es un numero par\n",
      "3 es un numero impar\n",
      "4 es un numero par\n",
      "5 es un numero impar\n",
      "6 es un numero par\n",
      "7 es un numero impar\n",
      "8 es un numero par\n",
      "9 es un numero impar\n"
     ]
    }
   ],
   "source": [
    "n = 0 # Asignacion de 0 en n\n",
    "while n < 10: # Expresion relacional n < 10, que devuelve True\n",
    "    if (n % 2) == 0: # Expresion aritmetica y expresion relacional\n",
    "        print(n, 'es un numero par')\n",
    "    else: # else = sino (def condicion)\n",
    "        print(n, 'es un numero impar')\n",
    "    n +=1 # EXpresion aritmetica n = n + 1 equivalente a operacion en asignacion"
   ]
  },
  {
   "cell_type": "code",
   "execution_count": null,
   "id": "5cdf45d9",
   "metadata": {},
   "outputs": [],
   "source": []
  }
 ],
 "metadata": {
  "kernelspec": {
   "display_name": "Python 3 (ipykernel)",
   "language": "python",
   "name": "python3"
  },
  "language_info": {
   "codemirror_mode": {
    "name": "ipython",
    "version": 3
   },
   "file_extension": ".py",
   "mimetype": "text/x-python",
   "name": "python",
   "nbconvert_exporter": "python",
   "pygments_lexer": "ipython3",
   "version": "3.9.16"
  }
 },
 "nbformat": 4,
 "nbformat_minor": 5
}
