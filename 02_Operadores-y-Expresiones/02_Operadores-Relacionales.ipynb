{
 "cells": [
  {
   "cell_type": "markdown",
   "id": "951aa0e9",
   "metadata": {},
   "source": [
    "# Los operadores relacionales\n",
    "\n",
    "Sirven para comparar dos valores, dependiendo del resultado de la comparacion pueden devolver:\n",
    "\n",
    "- Verdadero (True), si es cierta.\n",
    "- Falso (False), si no es cierta."
   ]
  },
  {
   "cell_type": "code",
   "execution_count": 1,
   "id": "2c73a26a",
   "metadata": {},
   "outputs": [
    {
     "data": {
      "text/plain": [
       "False"
      ]
     },
     "execution_count": 1,
     "metadata": {},
     "output_type": "execute_result"
    }
   ],
   "source": [
    "# igual que\n",
    "3 == 2"
   ]
  },
  {
   "cell_type": "code",
   "execution_count": 2,
   "id": "d7ff464c",
   "metadata": {},
   "outputs": [
    {
     "data": {
      "text/plain": [
       "True"
      ]
     },
     "execution_count": 2,
     "metadata": {},
     "output_type": "execute_result"
    }
   ],
   "source": [
    "# Distinto de\n",
    "3 != 2"
   ]
  },
  {
   "cell_type": "code",
   "execution_count": 5,
   "id": "e4335979",
   "metadata": {},
   "outputs": [
    {
     "data": {
      "text/plain": [
       "True"
      ]
     },
     "execution_count": 5,
     "metadata": {},
     "output_type": "execute_result"
    }
   ],
   "source": [
    "#Mayor que\n",
    "3 > 2"
   ]
  },
  {
   "cell_type": "code",
   "execution_count": 4,
   "id": "9bd31321",
   "metadata": {},
   "outputs": [
    {
     "data": {
      "text/plain": [
       "False"
      ]
     },
     "execution_count": 4,
     "metadata": {},
     "output_type": "execute_result"
    }
   ],
   "source": [
    "# Menor que\n",
    "3 < 2"
   ]
  },
  {
   "cell_type": "code",
   "execution_count": 6,
   "id": "ed3c6f36",
   "metadata": {},
   "outputs": [
    {
     "data": {
      "text/plain": [
       "False"
      ]
     },
     "execution_count": 6,
     "metadata": {},
     "output_type": "execute_result"
    }
   ],
   "source": [
    "# Mayor o igual que\n",
    "3 >= 4"
   ]
  },
  {
   "cell_type": "code",
   "execution_count": 7,
   "id": "869c198b",
   "metadata": {},
   "outputs": [
    {
     "data": {
      "text/plain": [
       "True"
      ]
     },
     "execution_count": 7,
     "metadata": {},
     "output_type": "execute_result"
    }
   ],
   "source": [
    "# Menor o igual que\n",
    "3 <= 4"
   ]
  },
  {
   "cell_type": "markdown",
   "id": "2b144d9a",
   "metadata": {},
   "source": [
    "#### Tambien es posible comparar variables"
   ]
  },
  {
   "cell_type": "code",
   "execution_count": 9,
   "id": "f3341bfe",
   "metadata": {},
   "outputs": [
    {
     "data": {
      "text/plain": [
       "True"
      ]
     },
     "execution_count": 9,
     "metadata": {},
     "output_type": "execute_result"
    }
   ],
   "source": [
    "a = 10\n",
    "b = 5\n",
    "a > b"
   ]
  },
  {
   "cell_type": "code",
   "execution_count": 10,
   "id": "8aed1da2",
   "metadata": {},
   "outputs": [
    {
     "data": {
      "text/plain": [
       "True"
      ]
     },
     "execution_count": 10,
     "metadata": {},
     "output_type": "execute_result"
    }
   ],
   "source": [
    "b != a"
   ]
  },
  {
   "cell_type": "code",
   "execution_count": 11,
   "id": "6990cb08",
   "metadata": {},
   "outputs": [
    {
     "data": {
      "text/plain": [
       "True"
      ]
     },
     "execution_count": 11,
     "metadata": {},
     "output_type": "execute_result"
    }
   ],
   "source": [
    "a == b*2"
   ]
  },
  {
   "cell_type": "markdown",
   "id": "c990795b",
   "metadata": {},
   "source": [
    "#### Y otros tipos como cadenas, listas, el resultado de algunas funciones o los propios tipos logicos"
   ]
  },
  {
   "cell_type": "code",
   "execution_count": 12,
   "id": "1297d05f",
   "metadata": {},
   "outputs": [
    {
     "data": {
      "text/plain": [
       "True"
      ]
     },
     "execution_count": 12,
     "metadata": {},
     "output_type": "execute_result"
    }
   ],
   "source": [
    "\"Hola\" == \"Hola\""
   ]
  },
  {
   "cell_type": "code",
   "execution_count": 13,
   "id": "1390f534",
   "metadata": {},
   "outputs": [
    {
     "data": {
      "text/plain": [
       "False"
      ]
     },
     "execution_count": 13,
     "metadata": {},
     "output_type": "execute_result"
    }
   ],
   "source": [
    "\"Hola\" != \"Hola\""
   ]
  },
  {
   "cell_type": "code",
   "execution_count": 14,
   "id": "a7a7a844",
   "metadata": {},
   "outputs": [
    {
     "data": {
      "text/plain": [
       "True"
      ]
     },
     "execution_count": 14,
     "metadata": {},
     "output_type": "execute_result"
    }
   ],
   "source": [
    "c = \"Hola\"\n",
    "c[-1] == \"a\""
   ]
  },
  {
   "cell_type": "code",
   "execution_count": 15,
   "id": "576e4427",
   "metadata": {},
   "outputs": [
    {
     "data": {
      "text/plain": [
       "True"
      ]
     },
     "execution_count": 15,
     "metadata": {},
     "output_type": "execute_result"
    }
   ],
   "source": [
    "c [0] == \"H\""
   ]
  },
  {
   "cell_type": "code",
   "execution_count": 16,
   "id": "5d57ef6e",
   "metadata": {},
   "outputs": [
    {
     "data": {
      "text/plain": [
       "False"
      ]
     },
     "execution_count": 16,
     "metadata": {},
     "output_type": "execute_result"
    }
   ],
   "source": [
    "11 == [0,1,2]\n",
    "12 == [2,3,4]\n",
    "11 == [12]"
   ]
  },
  {
   "cell_type": "code",
   "execution_count": 17,
   "id": "ee43c140",
   "metadata": {},
   "outputs": [
    {
     "data": {
      "text/plain": [
       "int"
      ]
     },
     "execution_count": 17,
     "metadata": {},
     "output_type": "execute_result"
    }
   ],
   "source": [
    "type(11)"
   ]
  },
  {
   "cell_type": "markdown",
   "id": "75b0a422",
   "metadata": {},
   "source": [
    "#### La representacion aritmetica de True y False equivale a 1 y 0 respectivamnte."
   ]
  },
  {
   "cell_type": "code",
   "execution_count": 18,
   "id": "d20cdc0f",
   "metadata": {},
   "outputs": [
    {
     "data": {
      "text/plain": [
       "3"
      ]
     },
     "execution_count": 18,
     "metadata": {},
     "output_type": "execute_result"
    }
   ],
   "source": [
    "True * 3"
   ]
  },
  {
   "cell_type": "code",
   "execution_count": 19,
   "id": "85c86239",
   "metadata": {},
   "outputs": [
    {
     "data": {
      "text/plain": [
       "0.0"
      ]
     },
     "execution_count": 19,
     "metadata": {},
     "output_type": "execute_result"
    }
   ],
   "source": [
    "False / 5"
   ]
  },
  {
   "cell_type": "code",
   "execution_count": 20,
   "id": "cc9092eb",
   "metadata": {},
   "outputs": [
    {
     "data": {
      "text/plain": [
       "0"
      ]
     },
     "execution_count": 20,
     "metadata": {},
     "output_type": "execute_result"
    }
   ],
   "source": [
    "True * False"
   ]
  },
  {
   "cell_type": "code",
   "execution_count": null,
   "id": "139e1ffc",
   "metadata": {},
   "outputs": [],
   "source": []
  }
 ],
 "metadata": {
  "kernelspec": {
   "display_name": "Python 3 (ipykernel)",
   "language": "python",
   "name": "python3"
  },
  "language_info": {
   "codemirror_mode": {
    "name": "ipython",
    "version": 3
   },
   "file_extension": ".py",
   "mimetype": "text/x-python",
   "name": "python",
   "nbconvert_exporter": "python",
   "pygments_lexer": "ipython3",
   "version": "3.9.16"
  }
 },
 "nbformat": 4,
 "nbformat_minor": 5
}
