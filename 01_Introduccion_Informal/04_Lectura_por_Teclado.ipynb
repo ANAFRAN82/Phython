{
 "cells": [
  {
   "cell_type": "markdown",
   "id": "c15dca5a",
   "metadata": {},
   "source": [
    "# Leyendo valores por teclado\n",
    "\n",
    "Se consigue utilizando, la introduccion input( ) que lee y devuelve una cadena:"
   ]
  },
  {
   "cell_type": "code",
   "execution_count": 1,
   "id": "1ea41a8c",
   "metadata": {},
   "outputs": [
    {
     "name": "stdout",
     "output_type": "stream",
     "text": [
      "algo\n"
     ]
    }
   ],
   "source": [
    "valor = input()"
   ]
  },
  {
   "cell_type": "code",
   "execution_count": 2,
   "id": "dc5ad24d",
   "metadata": {},
   "outputs": [
    {
     "data": {
      "text/plain": [
       "'algo'"
      ]
     },
     "execution_count": 2,
     "metadata": {},
     "output_type": "execute_result"
    }
   ],
   "source": [
    "valor"
   ]
  },
  {
   "cell_type": "code",
   "execution_count": 3,
   "id": "29e8e31d",
   "metadata": {},
   "outputs": [
    {
     "data": {
      "text/plain": [
       "str"
      ]
     },
     "execution_count": 3,
     "metadata": {},
     "output_type": "execute_result"
    }
   ],
   "source": [
    "type(valor)"
   ]
  },
  {
   "cell_type": "code",
   "execution_count": 4,
   "id": "68556798",
   "metadata": {},
   "outputs": [
    {
     "name": "stdout",
     "output_type": "stream",
     "text": [
      "100\n"
     ]
    }
   ],
   "source": [
    "valor = input()"
   ]
  },
  {
   "cell_type": "code",
   "execution_count": 5,
   "id": "814d636a",
   "metadata": {},
   "outputs": [
    {
     "data": {
      "text/plain": [
       "'100'"
      ]
     },
     "execution_count": 5,
     "metadata": {},
     "output_type": "execute_result"
    }
   ],
   "source": [
    "valor"
   ]
  },
  {
   "cell_type": "code",
   "execution_count": 6,
   "id": "992cadba",
   "metadata": {},
   "outputs": [
    {
     "data": {
      "text/plain": [
       "str"
      ]
     },
     "execution_count": 6,
     "metadata": {},
     "output_type": "execute_result"
    }
   ],
   "source": [
    "type(valor)"
   ]
  },
  {
   "cell_type": "code",
   "execution_count": 7,
   "id": "d45af581",
   "metadata": {},
   "outputs": [
    {
     "name": "stdout",
     "output_type": "stream",
     "text": [
      "Introduce un valor: 100\n"
     ]
    }
   ],
   "source": [
    "#Es posible mostar un mensaje antes de leer el valor\n",
    "valor = input(\"Introduce un valor: \")"
   ]
  },
  {
   "cell_type": "code",
   "execution_count": 8,
   "id": "c2e8e2a7",
   "metadata": {},
   "outputs": [
    {
     "data": {
      "text/plain": [
       "'100'"
      ]
     },
     "execution_count": 8,
     "metadata": {},
     "output_type": "execute_result"
    }
   ],
   "source": [
    "valor"
   ]
  },
  {
   "cell_type": "code",
   "execution_count": 9,
   "id": "8e945bc1",
   "metadata": {},
   "outputs": [
    {
     "ename": "TypeError",
     "evalue": "can only concatenate str (not \"int\") to str",
     "output_type": "error",
     "traceback": [
      "\u001b[0;31m---------------------------------------------------------------------------\u001b[0m",
      "\u001b[0;31mTypeError\u001b[0m                                 Traceback (most recent call last)",
      "Cell \u001b[0;32mIn[9], line 1\u001b[0m\n\u001b[0;32m----> 1\u001b[0m \u001b[43mvalor\u001b[49m\u001b[43m \u001b[49m\u001b[38;5;241;43m+\u001b[39;49m\u001b[43m \u001b[49m\u001b[38;5;241;43m100\u001b[39;49m\n",
      "\u001b[0;31mTypeError\u001b[0m: can only concatenate str (not \"int\") to str"
     ]
    }
   ],
   "source": [
    "valor + 100\n",
    "#Una cadena y un numero no se puden operar."
   ]
  },
  {
   "cell_type": "code",
   "execution_count": 10,
   "id": "67378bfc",
   "metadata": {},
   "outputs": [
    {
     "name": "stdout",
     "output_type": "stream",
     "text": [
      "Introduce un numero entero: 500\n"
     ]
    }
   ],
   "source": [
    "valor = input(\"Introduce un numero entero: \")"
   ]
  },
  {
   "cell_type": "code",
   "execution_count": 11,
   "id": "8ee7cd99",
   "metadata": {},
   "outputs": [
    {
     "data": {
      "text/plain": [
       "str"
      ]
     },
     "execution_count": 11,
     "metadata": {},
     "output_type": "execute_result"
    }
   ],
   "source": [
    "valor\n",
    "type(valor)"
   ]
  },
  {
   "cell_type": "markdown",
   "id": "0a2dd91c",
   "metadata": {},
   "source": [
    "## Cast con int(), de cadena a entero"
   ]
  },
  {
   "cell_type": "code",
   "execution_count": 12,
   "id": "f44b7c7c",
   "metadata": {},
   "outputs": [],
   "source": [
    "#La funcion int( ) devuelve un numero entero a partir de una cadena.\n",
    "valor = int(valor)"
   ]
  },
  {
   "cell_type": "code",
   "execution_count": 13,
   "id": "180324f6",
   "metadata": {},
   "outputs": [
    {
     "data": {
      "text/plain": [
       "int"
      ]
     },
     "execution_count": 13,
     "metadata": {},
     "output_type": "execute_result"
    }
   ],
   "source": [
    "type(valor)"
   ]
  },
  {
   "cell_type": "code",
   "execution_count": 14,
   "id": "08b3d29a",
   "metadata": {},
   "outputs": [
    {
     "data": {
      "text/plain": [
       "500"
      ]
     },
     "execution_count": 14,
     "metadata": {},
     "output_type": "execute_result"
    }
   ],
   "source": [
    "valor"
   ]
  },
  {
   "cell_type": "code",
   "execution_count": 15,
   "id": "acfc57ad",
   "metadata": {},
   "outputs": [
    {
     "data": {
      "text/plain": [
       "1500"
      ]
     },
     "execution_count": 15,
     "metadata": {},
     "output_type": "execute_result"
    }
   ],
   "source": [
    "valor + 1000"
   ]
  },
  {
   "cell_type": "code",
   "execution_count": 16,
   "id": "0fa5b059",
   "metadata": {},
   "outputs": [
    {
     "name": "stdout",
     "output_type": "stream",
     "text": [
      "Introduce un numero entero: 10.50\n"
     ]
    }
   ],
   "source": [
    "valor = input(\"Introduce un numero entero: \")"
   ]
  },
  {
   "cell_type": "code",
   "execution_count": 17,
   "id": "fd086213",
   "metadata": {},
   "outputs": [
    {
     "data": {
      "text/plain": [
       "'10.50'"
      ]
     },
     "execution_count": 17,
     "metadata": {},
     "output_type": "execute_result"
    }
   ],
   "source": [
    "valor"
   ]
  },
  {
   "cell_type": "markdown",
   "id": "1aa11520",
   "metadata": {},
   "source": [
    "## Cast con float() de cadena a flotante"
   ]
  },
  {
   "cell_type": "code",
   "execution_count": 18,
   "id": "9aa83979",
   "metadata": {},
   "outputs": [],
   "source": [
    "#La funcion float( ) devuelve un numero flotante a partir de una cadena.\n",
    "valor = float(valor)"
   ]
  },
  {
   "cell_type": "code",
   "execution_count": 19,
   "id": "e47ec4b7",
   "metadata": {},
   "outputs": [
    {
     "data": {
      "text/plain": [
       "10.5"
      ]
     },
     "execution_count": 19,
     "metadata": {},
     "output_type": "execute_result"
    }
   ],
   "source": [
    "valor"
   ]
  },
  {
   "cell_type": "code",
   "execution_count": 20,
   "id": "257d501f",
   "metadata": {},
   "outputs": [
    {
     "data": {
      "text/plain": [
       "float"
      ]
     },
     "execution_count": 20,
     "metadata": {},
     "output_type": "execute_result"
    }
   ],
   "source": [
    "type(valor)"
   ]
  },
  {
   "cell_type": "code",
   "execution_count": 21,
   "id": "690afbb9",
   "metadata": {},
   "outputs": [
    {
     "data": {
      "text/plain": [
       "20.5"
      ]
     },
     "execution_count": 21,
     "metadata": {},
     "output_type": "execute_result"
    }
   ],
   "source": [
    "10 + valor"
   ]
  },
  {
   "cell_type": "code",
   "execution_count": 22,
   "id": "a9a8b4c7",
   "metadata": {},
   "outputs": [
    {
     "name": "stdout",
     "output_type": "stream",
     "text": [
      "Introduce un numero decimal o entero: 10.5\n"
     ]
    }
   ],
   "source": [
    "valor = float( input(\"Introduce un numero decimal o entero: \"))"
   ]
  },
  {
   "cell_type": "code",
   "execution_count": 23,
   "id": "9d9d31b3",
   "metadata": {},
   "outputs": [
    {
     "data": {
      "text/plain": [
       "10.5"
      ]
     },
     "execution_count": 23,
     "metadata": {},
     "output_type": "execute_result"
    }
   ],
   "source": [
    "valor"
   ]
  },
  {
   "cell_type": "code",
   "execution_count": 24,
   "id": "e97ddd02",
   "metadata": {},
   "outputs": [
    {
     "data": {
      "text/plain": [
       "float"
      ]
     },
     "execution_count": 24,
     "metadata": {},
     "output_type": "execute_result"
    }
   ],
   "source": [
    "type(valor)"
   ]
  },
  {
   "cell_type": "code",
   "execution_count": null,
   "id": "2eb6adb4",
   "metadata": {},
   "outputs": [],
   "source": []
  }
 ],
 "metadata": {
  "kernelspec": {
   "display_name": "Python 3 (ipykernel)",
   "language": "python",
   "name": "python3"
  },
  "language_info": {
   "codemirror_mode": {
    "name": "ipython",
    "version": 3
   },
   "file_extension": ".py",
   "mimetype": "text/x-python",
   "name": "python",
   "nbconvert_exporter": "python",
   "pygments_lexer": "ipython3",
   "version": "3.9.16"
  }
 },
 "nbformat": 4,
 "nbformat_minor": 5
}
