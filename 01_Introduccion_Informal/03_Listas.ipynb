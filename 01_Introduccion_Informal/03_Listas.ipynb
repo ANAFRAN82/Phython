{
 "cells": [
  {
   "cell_type": "markdown",
   "id": "b9587a51",
   "metadata": {},
   "source": [
    "# Las listas.\n",
    "\n",
    "\n",
    "Tipo compuesto de dato que pude almacenar distintos valores(llamados items) ordenados entre [] y separados por comas."
   ]
  },
  {
   "cell_type": "code",
   "execution_count": 19,
   "id": "eea7c1ad",
   "metadata": {},
   "outputs": [
    {
     "data": {
      "text/plain": [
       "[1, 2, 3, 4]"
      ]
     },
     "execution_count": 19,
     "metadata": {},
     "output_type": "execute_result"
    }
   ],
   "source": [
    "numeros =[1,2,3,4]\n",
    "numeros"
   ]
  },
  {
   "cell_type": "code",
   "execution_count": 20,
   "id": "45f0d498",
   "metadata": {},
   "outputs": [
    {
     "data": {
      "text/plain": [
       "[4, 'Una cadena', -15, 3.14, 'Otra cadena']"
      ]
     },
     "execution_count": 20,
     "metadata": {},
     "output_type": "execute_result"
    }
   ],
   "source": [
    "datos=[4, \"Una cadena\", -15,3.14, \"Otra cadena\"]\n",
    "datos"
   ]
  },
  {
   "cell_type": "markdown",
   "id": "04ac4f41",
   "metadata": {},
   "source": [
    "## Indices y slicing.\n",
    "\n",
    "\n",
    "Funciona de una forma muy similar a las cadenas de caracteres"
   ]
  },
  {
   "cell_type": "code",
   "execution_count": 21,
   "id": "78ca2733",
   "metadata": {},
   "outputs": [
    {
     "data": {
      "text/plain": [
       "4"
      ]
     },
     "execution_count": 21,
     "metadata": {},
     "output_type": "execute_result"
    }
   ],
   "source": [
    "datos[0]"
   ]
  },
  {
   "cell_type": "code",
   "execution_count": 22,
   "id": "1520c260",
   "metadata": {},
   "outputs": [
    {
     "data": {
      "text/plain": [
       "'Otra cadena'"
      ]
     },
     "execution_count": 22,
     "metadata": {},
     "output_type": "execute_result"
    }
   ],
   "source": [
    "datos[-1]"
   ]
  },
  {
   "cell_type": "code",
   "execution_count": 23,
   "id": "cc66f5e3",
   "metadata": {},
   "outputs": [
    {
     "data": {
      "text/plain": [
       "3.14"
      ]
     },
     "execution_count": 23,
     "metadata": {},
     "output_type": "execute_result"
    }
   ],
   "source": [
    "datos[-2]"
   ]
  },
  {
   "cell_type": "markdown",
   "id": "060f567e",
   "metadata": {},
   "source": [
    "## Suma de listas.\n",
    "\n",
    "Da como resultado una nueva lista que incluye todos los items."
   ]
  },
  {
   "cell_type": "code",
   "execution_count": 24,
   "id": "b488ec94",
   "metadata": {},
   "outputs": [
    {
     "data": {
      "text/plain": [
       "[1, 2, 3, 4, 5, 6, 7, 8]"
      ]
     },
     "execution_count": 24,
     "metadata": {},
     "output_type": "execute_result"
    }
   ],
   "source": [
    "numeros + [5,6,7,8]"
   ]
  },
  {
   "cell_type": "markdown",
   "id": "38fcfff7",
   "metadata": {},
   "source": [
    "## Son modificables\n",
    "\n",
    "A diferencia de las cadenas, en las listas si se puede modificar sus items utilizando indices"
   ]
  },
  {
   "cell_type": "code",
   "execution_count": 25,
   "id": "2de3c694",
   "metadata": {},
   "outputs": [
    {
     "data": {
      "text/plain": [
       "[0, 2, 4, 5, 8, 10]"
      ]
     },
     "execution_count": 25,
     "metadata": {},
     "output_type": "execute_result"
    }
   ],
   "source": [
    "pares=[0,2,4,5,8,10]\n",
    "pares"
   ]
  },
  {
   "cell_type": "code",
   "execution_count": 26,
   "id": "dd523df5",
   "metadata": {},
   "outputs": [
    {
     "data": {
      "text/plain": [
       "[0, 2, 4, 6, 8, 10]"
      ]
     },
     "execution_count": 26,
     "metadata": {},
     "output_type": "execute_result"
    }
   ],
   "source": [
    "pares[3]=6\n",
    "pares"
   ]
  },
  {
   "cell_type": "markdown",
   "id": "874df2d5",
   "metadata": {},
   "source": [
    "### integran funcionalidades internas, como el metodo .append() para añadir un item al final de la lista."
   ]
  },
  {
   "cell_type": "code",
   "execution_count": 27,
   "id": "0761c178",
   "metadata": {},
   "outputs": [],
   "source": [
    "pares.append(12)"
   ]
  },
  {
   "cell_type": "code",
   "execution_count": 28,
   "id": "4467295f",
   "metadata": {},
   "outputs": [
    {
     "data": {
      "text/plain": [
       "[0, 2, 4, 6, 8, 10, 12]"
      ]
     },
     "execution_count": 28,
     "metadata": {},
     "output_type": "execute_result"
    }
   ],
   "source": [
    "pares"
   ]
  },
  {
   "cell_type": "code",
   "execution_count": 29,
   "id": "b2582a5b",
   "metadata": {},
   "outputs": [
    {
     "data": {
      "text/plain": [
       "[0, 2, 4, 6, 8, 10, 12, 24]"
      ]
     },
     "execution_count": 29,
     "metadata": {},
     "output_type": "execute_result"
    }
   ],
   "source": [
    "pares.append(12*2)\n",
    "pares"
   ]
  },
  {
   "cell_type": "markdown",
   "id": "61c7b40c",
   "metadata": {},
   "source": [
    "#### Una peculiaridad es que tambien aceptan asignacion con slicing para modificar items en conjunto."
   ]
  },
  {
   "cell_type": "code",
   "execution_count": 30,
   "id": "26a2305b",
   "metadata": {},
   "outputs": [],
   "source": [
    "letras=['a', 'b', 'c', 'd', 'e', 'f']"
   ]
  },
  {
   "cell_type": "code",
   "execution_count": 31,
   "id": "af29bb39",
   "metadata": {},
   "outputs": [
    {
     "data": {
      "text/plain": [
       "['a', 'b', 'c']"
      ]
     },
     "execution_count": 31,
     "metadata": {},
     "output_type": "execute_result"
    }
   ],
   "source": [
    "letras[:3]"
   ]
  },
  {
   "cell_type": "code",
   "execution_count": 32,
   "id": "55626699",
   "metadata": {},
   "outputs": [
    {
     "data": {
      "text/plain": [
       "['a', 'b', 'c', 'd', 'e', 'f']"
      ]
     },
     "execution_count": 32,
     "metadata": {},
     "output_type": "execute_result"
    }
   ],
   "source": [
    "letras"
   ]
  },
  {
   "cell_type": "code",
   "execution_count": 33,
   "id": "a5f5592f",
   "metadata": {},
   "outputs": [
    {
     "data": {
      "text/plain": [
       "['A', 'B', 'C', 'd', 'e', 'f']"
      ]
     },
     "execution_count": 33,
     "metadata": {},
     "output_type": "execute_result"
    }
   ],
   "source": [
    "letras[:3] = ['A', 'B', 'C']\n",
    "letras"
   ]
  },
  {
   "cell_type": "markdown",
   "id": "bdb30f25",
   "metadata": {},
   "source": [
    "### Asignar una lista vacia equivale a borrar los items de las lista o sublista "
   ]
  },
  {
   "cell_type": "code",
   "execution_count": 35,
   "id": "fdd4537a",
   "metadata": {},
   "outputs": [
    {
     "data": {
      "text/plain": [
       "['d', 'e', 'f']"
      ]
     },
     "execution_count": 35,
     "metadata": {},
     "output_type": "execute_result"
    }
   ],
   "source": [
    "letras[:3]=[]\n",
    "letras"
   ]
  },
  {
   "cell_type": "code",
   "execution_count": 36,
   "id": "5634b1a1",
   "metadata": {},
   "outputs": [
    {
     "data": {
      "text/plain": [
       "[]"
      ]
     },
     "execution_count": 36,
     "metadata": {},
     "output_type": "execute_result"
    }
   ],
   "source": [
    "letras=[]\n",
    "letras"
   ]
  },
  {
   "cell_type": "markdown",
   "id": "c1a88cf0",
   "metadata": {},
   "source": [
    "#### La funcion len() funciona con las listas del mismo modo que las cadenas."
   ]
  },
  {
   "cell_type": "code",
   "execution_count": 37,
   "id": "b72e9e81",
   "metadata": {},
   "outputs": [
    {
     "data": {
      "text/plain": [
       "0"
      ]
     },
     "execution_count": 37,
     "metadata": {},
     "output_type": "execute_result"
    }
   ],
   "source": [
    "len(letras)"
   ]
  },
  {
   "cell_type": "code",
   "execution_count": 38,
   "id": "4860e7b5",
   "metadata": {},
   "outputs": [
    {
     "data": {
      "text/plain": [
       "8"
      ]
     },
     "execution_count": 38,
     "metadata": {},
     "output_type": "execute_result"
    }
   ],
   "source": [
    "len(pares)"
   ]
  },
  {
   "cell_type": "markdown",
   "id": "9f3c43ce",
   "metadata": {},
   "source": [
    "## Listas dentro de listas (anidadas)\n",
    "\n",
    "Podemos manipular facilmente este tipo de estructuras utilizando multiples indices, como si nos refirieramos a las filas y columnas de una tabla."
   ]
  },
  {
   "cell_type": "code",
   "execution_count": 39,
   "id": "2fa9dd88",
   "metadata": {},
   "outputs": [
    {
     "data": {
      "text/plain": [
       "[[1, 2, 3], [4, 5, 6], [7, 8, 9]]"
      ]
     },
     "execution_count": 39,
     "metadata": {},
     "output_type": "execute_result"
    }
   ],
   "source": [
    "a=[1,2,3]\n",
    "b=[4,5,6]\n",
    "c=[7,8,9]\n",
    "r=[a,b,c]\n",
    "r"
   ]
  },
  {
   "cell_type": "code",
   "execution_count": 41,
   "id": "4b4f56e3",
   "metadata": {},
   "outputs": [
    {
     "data": {
      "text/plain": [
       "[1, 2, 3]"
      ]
     },
     "execution_count": 41,
     "metadata": {},
     "output_type": "execute_result"
    }
   ],
   "source": [
    "r[0] #primera Sublista."
   ]
  },
  {
   "cell_type": "code",
   "execution_count": 42,
   "id": "4654c5ef",
   "metadata": {},
   "outputs": [
    {
     "data": {
      "text/plain": [
       "[7, 8, 9]"
      ]
     },
     "execution_count": 42,
     "metadata": {},
     "output_type": "execute_result"
    }
   ],
   "source": [
    "r[-1] #Ultima Sublista."
   ]
  },
  {
   "cell_type": "code",
   "execution_count": 43,
   "id": "66b70781",
   "metadata": {},
   "outputs": [
    {
     "data": {
      "text/plain": [
       "1"
      ]
     },
     "execution_count": 43,
     "metadata": {},
     "output_type": "execute_result"
    }
   ],
   "source": [
    "r[0][0] #La primera Sublista y de ella, el primer item"
   ]
  },
  {
   "cell_type": "code",
   "execution_count": 44,
   "id": "06d176b2",
   "metadata": {},
   "outputs": [
    {
     "data": {
      "text/plain": [
       "5"
      ]
     },
     "execution_count": 44,
     "metadata": {},
     "output_type": "execute_result"
    }
   ],
   "source": [
    "r[1][1] #Imprime la segunda Sublista y de ella el segundo item."
   ]
  },
  {
   "cell_type": "code",
   "execution_count": 45,
   "id": "f8ad1d54",
   "metadata": {},
   "outputs": [
    {
     "data": {
      "text/plain": [
       "9"
      ]
     },
     "execution_count": 45,
     "metadata": {},
     "output_type": "execute_result"
    }
   ],
   "source": [
    "r[2][2] #Tercera sublista y de ella el ultimo item"
   ]
  },
  {
   "cell_type": "code",
   "execution_count": 46,
   "id": "a20470e9",
   "metadata": {},
   "outputs": [
    {
     "data": {
      "text/plain": [
       "9"
      ]
     },
     "execution_count": 46,
     "metadata": {},
     "output_type": "execute_result"
    }
   ],
   "source": [
    "r[-1][-1] #Ultima sublista y de ella el ultimo item."
   ]
  },
  {
   "cell_type": "code",
   "execution_count": null,
   "id": "d7dd9d62",
   "metadata": {},
   "outputs": [],
   "source": []
  }
 ],
 "metadata": {
  "kernelspec": {
   "display_name": "Python 3 (ipykernel)",
   "language": "python",
   "name": "python3"
  },
  "language_info": {
   "codemirror_mode": {
    "name": "ipython",
    "version": 3
   },
   "file_extension": ".py",
   "mimetype": "text/x-python",
   "name": "python",
   "nbconvert_exporter": "python",
   "pygments_lexer": "ipython3",
   "version": "3.9.16"
  }
 },
 "nbformat": 4,
 "nbformat_minor": 5
}
