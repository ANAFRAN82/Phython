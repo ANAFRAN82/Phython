{
 "cells": [
  {
   "cell_type": "markdown",
   "id": "7e7f8301",
   "metadata": {},
   "source": [
    "# Condiciones\n",
    "\n",
    "## Sentencia if (Si)\n",
    "\n",
    "Permite dividir el flujo de un programa en diferentes caminos. El if se ejecuta siempre que la expresion que comprueba devuelva True."
   ]
  },
  {
   "cell_type": "code",
   "execution_count": 2,
   "id": "11ef6826",
   "metadata": {},
   "outputs": [
    {
     "name": "stdout",
     "output_type": "stream",
     "text": [
      "Se cumple la condicion\n",
      "Tambien se muetra este print\n"
     ]
    }
   ],
   "source": [
    "if True:      #Equivale a if not False.\n",
    "    print(\"Se cumple la condicion\")\n",
    "    print(\"Tambien se muetra este print\")"
   ]
  },
  {
   "cell_type": "markdown",
   "id": "963de35d",
   "metadata": {},
   "source": [
    "#### Es posible hacerlo en cadenas diferentes if"
   ]
  },
  {
   "cell_type": "code",
   "execution_count": 4,
   "id": "0a40ef55",
   "metadata": {},
   "outputs": [
    {
     "name": "stdout",
     "output_type": "stream",
     "text": [
      "a vale 5\n"
     ]
    }
   ],
   "source": [
    "a = 5\n",
    "if a == 2:\n",
    "    print(\"a vale 2\")\n",
    "if a == 5:\n",
    "    print(\"a vale 5\")"
   ]
  },
  {
   "cell_type": "markdown",
   "id": "d2da81b2",
   "metadata": {},
   "source": [
    "#### O tambien anidar if dentro de if"
   ]
  },
  {
   "cell_type": "code",
   "execution_count": 7,
   "id": "d553e2cb",
   "metadata": {},
   "outputs": [
    {
     "name": "stdout",
     "output_type": "stream",
     "text": [
      "a vale 5\n",
      "y b vale 10\n"
     ]
    }
   ],
   "source": [
    "a = 5\n",
    "b = 10\n",
    "if a ==5:\n",
    "    print(\"a vale\", a)\n",
    "    if b == 10:\n",
    "        print(\"y b vale\", b)"
   ]
  },
  {
   "cell_type": "markdown",
   "id": "6e3ceae4",
   "metadata": {},
   "source": [
    "#### Como condicion es posible evaluar multiples condiciones, siempre que estas devuelvan True o False"
   ]
  },
  {
   "cell_type": "code",
   "execution_count": 8,
   "id": "3e187054",
   "metadata": {},
   "outputs": [
    {
     "name": "stdout",
     "output_type": "stream",
     "text": [
      "a vale 5 y b vale 10\n"
     ]
    }
   ],
   "source": [
    "if a == 5 and b == 10:\n",
    "    print(\"a vale 5 y b vale 10\")"
   ]
  },
  {
   "cell_type": "markdown",
   "id": "b11eb02f",
   "metadata": {},
   "source": [
    "# Sentencia Else (Sino)\n",
    "\n",
    "Se encadena a un if para comprobar el caso contrario (el que no cumple la condicion)."
   ]
  },
  {
   "cell_type": "code",
   "execution_count": 9,
   "id": "7f07d134",
   "metadata": {},
   "outputs": [
    {
     "name": "stdout",
     "output_type": "stream",
     "text": [
      "11 es un numero impar\n"
     ]
    }
   ],
   "source": [
    "n = 11\n",
    "if n % 2 == 0:\n",
    "    print(n, \"es un numero par\")\n",
    "else:\n",
    "    print(n, \"es un numero impar\")"
   ]
  },
  {
   "cell_type": "markdown",
   "id": "b02378f3",
   "metadata": {},
   "source": [
    "# Sentencia Elif (Sino Si)\n",
    "\n",
    "Se encadena a un if u otro elif para comprobar multiples condiciones, simepre que las anteriores no se ejecuten."
   ]
  },
  {
   "cell_type": "code",
   "execution_count": 10,
   "id": "49e157a7",
   "metadata": {},
   "outputs": [
    {
     "name": "stdout",
     "output_type": "stream",
     "text": [
      "Este comando no se reconoce\n"
     ]
    }
   ],
   "source": [
    "comando = \"Otra cosa\"\n",
    "if comando == \"Entrar\":\n",
    "    print(\"BIenvenido al sistema\")\n",
    "elif comando == \"Saludar\":\n",
    "    print(\"Hola, espero que te la estes pasndo chido, aprendiendo Python\")\n",
    "elif comando == \"Salir\":\n",
    "    print(\"Saliendo del Sistema. . .\")\n",
    "else:\n",
    "    print(\"Este comando no se reconoce\")"
   ]
  },
  {
   "cell_type": "code",
   "execution_count": 11,
   "id": "11f367cc",
   "metadata": {},
   "outputs": [
    {
     "name": "stdout",
     "output_type": "stream",
     "text": [
      "Introduce una caificacion85\n",
      "Notable\n"
     ]
    }
   ],
   "source": [
    "calif = float(input(\"Introduce una caificacion\"))\n",
    "if calif >= 90:\n",
    "    print(\"Sobresaliente\")\n",
    "elif calif >= 70:\n",
    "    print(\"Notable\")\n",
    "elif calif <70:\n",
    "    print(\"POnte chido\")\n",
    "else:\n",
    "    print(\"Reprobado Chavo\")"
   ]
  },
  {
   "cell_type": "markdown",
   "id": "29b379f3",
   "metadata": {},
   "source": [
    "# Instruccion Pass\n",
    "\n",
    "Sirve para finalizar un bloque, se pude utilizar en un bloque vacio."
   ]
  },
  {
   "cell_type": "code",
   "execution_count": 12,
   "id": "f5a9eb09",
   "metadata": {},
   "outputs": [],
   "source": [
    "if True:\n",
    "    pass"
   ]
  },
  {
   "cell_type": "code",
   "execution_count": null,
   "id": "63a64117",
   "metadata": {},
   "outputs": [],
   "source": []
  }
 ],
 "metadata": {
  "kernelspec": {
   "display_name": "Python 3 (ipykernel)",
   "language": "python",
   "name": "python3"
  },
  "language_info": {
   "codemirror_mode": {
    "name": "ipython",
    "version": 3
   },
   "file_extension": ".py",
   "mimetype": "text/x-python",
   "name": "python",
   "nbconvert_exporter": "python",
   "pygments_lexer": "ipython3",
   "version": "3.9.16"
  }
 },
 "nbformat": 4,
 "nbformat_minor": 5
}
