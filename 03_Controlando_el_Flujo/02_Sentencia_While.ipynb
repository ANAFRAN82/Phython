{
 "cells": [
  {
   "cell_type": "markdown",
   "id": "ea6b5bf0",
   "metadata": {},
   "source": [
    "# Iteraciones\n",
    "Iterar significa realizar una accion varias veces. Cada vez que se repite se denomina iteracion.\n",
    "\n",
    "## Sentencia While (Mientras)\n",
    "Se basa en repetir un bloque a partir de evaluar una condicion logica, siempre que esta sea True.\n",
    "\n",
    "Queda en las manos del porgramador del Developer decidir el moneto en que la condicion cambie a False para hacer que el While finalize."
   ]
  },
  {
   "cell_type": "code",
   "execution_count": 1,
   "id": "05a538c3",
   "metadata": {},
   "outputs": [
    {
     "name": "stdout",
     "output_type": "stream",
     "text": [
      "C vale 1\n",
      "C vale 2\n",
      "C vale 3\n",
      "C vale 4\n",
      "C vale 5\n",
      "C vale 6\n"
     ]
    }
   ],
   "source": [
    "c = 0\n",
    "while c <= 5:\n",
    "    c += 1\n",
    "    print(\"C vale\", c)"
   ]
  },
  {
   "cell_type": "markdown",
   "id": "ebbbbfaf",
   "metadata": {},
   "source": [
    "## Sentencia Else en bucle While\n",
    "Se encadena al while para ejecutar un bloque de codigo una vez que la condicion ya no devuelve True (Normalmente al final)."
   ]
  },
  {
   "cell_type": "code",
   "execution_count": 2,
   "id": "4b601c2e",
   "metadata": {},
   "outputs": [
    {
     "name": "stdout",
     "output_type": "stream",
     "text": [
      "c vale 1\n",
      "c vale 2\n",
      "c vale 3\n",
      "c vale 4\n",
      "c vale 5\n",
      "c vale 6\n",
      "Se ha completado todas las iteraciones y c vale 6\n"
     ]
    }
   ],
   "source": [
    "c = 0\n",
    "while c <= 5:\n",
    "    c += 1\n",
    "    print(\"c vale\", c)\n",
    "else:\n",
    "    print(\"Se ha completado todas las iteraciones y c vale\", c)"
   ]
  },
  {
   "cell_type": "markdown",
   "id": "2d2f527e",
   "metadata": {},
   "source": [
    "## Instruccion Break.\n",
    "Sirve para **romper** la ejecucion del while en cualquier momento. No se ejecutara el **else** ya que este, solo se llama al finalizar la iteracion"
   ]
  },
  {
   "cell_type": "code",
   "execution_count": 3,
   "id": "ac6e03b3",
   "metadata": {},
   "outputs": [
    {
     "name": "stdout",
     "output_type": "stream",
     "text": [
      "c vale 1\n",
      "c vale 2\n",
      "c vale 3\n",
      "Se rompe el blucle, cuando c vale:  4\n"
     ]
    }
   ],
   "source": [
    "c = 0\n",
    "while c <= 5:\n",
    "    c +=1\n",
    "    if(c==4):\n",
    "        print(\"Se rompe el blucle, cuando c vale: \", c)\n",
    "        break\n",
    "    print(\"c vale\", c)\n",
    "else:\n",
    "    print(\"Se ha completado toda la iteracion y c vale: \", c)"
   ]
  },
  {
   "cell_type": "markdown",
   "id": "f1ba16a4",
   "metadata": {},
   "source": [
    "## Crear un menu iterativo."
   ]
  },
  {
   "cell_type": "code",
   "execution_count": 6,
   "id": "29579382",
   "metadata": {},
   "outputs": [
    {
     "name": "stdout",
     "output_type": "stream",
     "text": [
      "Bienvenido al Menu iterativo\n",
      "Que deseas hacer?, Escribe una opcion\n",
      "    1) Saludar\n",
      "    2)Sumar dos numeros\n",
      "    3)Salir\n",
      "1\n",
      "Hola, espero te la estes pasando chido\n",
      "Que deseas hacer?, Escribe una opcion\n",
      "    1) Saludar\n",
      "    2)Sumar dos numeros\n",
      "    3)Salir\n",
      "2\n",
      "Introduce el primer numero: 5\n",
      "Introduce el segundo numero: 10\n",
      "El resultado de la suma es:  15.0\n",
      "Que deseas hacer?, Escribe una opcion\n",
      "    1) Saludar\n",
      "    2)Sumar dos numeros\n",
      "    3)Salir\n",
      "3\n",
      "!Hasta luego!, ha sido un placer ayudarte\n"
     ]
    }
   ],
   "source": [
    "print(\"Bienvenido al Menu iterativo\")\n",
    "while(True):\n",
    "    print(\"\"\"¿Que deseas hacer?, Escribe una opcion\n",
    "    1) Saludar\n",
    "    2)Sumar dos numeros\n",
    "    3)Salir\"\"\")\n",
    "    opcion = input()\n",
    "    if opcion == '1':\n",
    "        print(\"Hola, espero te la estes pasando chido\")\n",
    "    elif opcion == '2':\n",
    "        N1 = float(input(\"Introduce el primer numero: \"))\n",
    "        N2 = float(input(\"Introduce el segundo numero: \"))\n",
    "        print(\"El resultado de la suma es: \", N1 + N2)\n",
    "    elif opcion == '3':\n",
    "        print(\"!Hasta luego!, ha sido un placer ayudarte\")\n",
    "        break\n",
    "    else:(\"Comando desconocido, vuelve a intentarlo\")"
   ]
  },
  {
   "cell_type": "code",
   "execution_count": null,
   "id": "55a15ba6",
   "metadata": {},
   "outputs": [],
   "source": []
  },
  {
   "cell_type": "code",
   "execution_count": null,
   "id": "9f90d158",
   "metadata": {},
   "outputs": [],
   "source": []
  }
 ],
 "metadata": {
  "kernelspec": {
   "display_name": "Python 3 (ipykernel)",
   "language": "python",
   "name": "python3"
  },
  "language_info": {
   "codemirror_mode": {
    "name": "ipython",
    "version": 3
   },
   "file_extension": ".py",
   "mimetype": "text/x-python",
   "name": "python",
   "nbconvert_exporter": "python",
   "pygments_lexer": "ipython3",
   "version": "3.9.16"
  }
 },
 "nbformat": 4,
 "nbformat_minor": 5
}
