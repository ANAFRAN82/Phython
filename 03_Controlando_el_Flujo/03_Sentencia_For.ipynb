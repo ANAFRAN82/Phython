{
 "cells": [
  {
   "cell_type": "markdown",
   "id": "74ef43f0",
   "metadata": {},
   "source": [
    "## Recorriendo los elemntos de una lista, utilizando while.\n"
   ]
  },
  {
   "cell_type": "code",
   "execution_count": 1,
   "id": "57e9e055",
   "metadata": {},
   "outputs": [
    {
     "name": "stdout",
     "output_type": "stream",
     "text": [
      "1\n",
      "2\n",
      "3\n",
      "4\n",
      "5\n",
      "6\n",
      "7\n",
      "8\n",
      "9\n",
      "10\n"
     ]
    }
   ],
   "source": [
    "numeros = [1,2,3,4,5,6,7,8,9,10]\n",
    "indice = 0\n",
    "while indice <len(numeros):\n",
    "    print(numeros[indice])\n",
    "    indice +=1"
   ]
  },
  {
   "cell_type": "markdown",
   "id": "d1861714",
   "metadata": {},
   "source": [
    "## Sentencia For (Para) con listas"
   ]
  },
  {
   "cell_type": "code",
   "execution_count": 3,
   "id": "b9c2bcba",
   "metadata": {},
   "outputs": [
    {
     "name": "stdout",
     "output_type": "stream",
     "text": [
      "1\n",
      "2\n",
      "3\n",
      "4\n",
      "5\n",
      "6\n",
      "7\n",
      "8\n",
      "9\n",
      "10\n"
     ]
    }
   ],
   "source": [
    "for numero in numeros: # For [Variable] en [Listas]\n",
    "    print(numero)"
   ]
  },
  {
   "cell_type": "markdown",
   "id": "2739aca2",
   "metadata": {},
   "source": [
    "## Modificar Items de la lista en ejecucion.\n",
    "Para asignar un nuevo valor a los elementos de una lista, mientras se recorre es posible intentar aignar al numero el nuevo valor."
   ]
  },
  {
   "cell_type": "code",
   "execution_count": 4,
   "id": "2d11b929",
   "metadata": {},
   "outputs": [],
   "source": [
    "for numero in numeros:\n",
    "    numero *= 10\n",
    "    "
   ]
  },
  {
   "cell_type": "code",
   "execution_count": 5,
   "id": "e836ef39",
   "metadata": {},
   "outputs": [
    {
     "data": {
      "text/plain": [
       "[1, 2, 3, 4, 5, 6, 7, 8, 9, 10]"
      ]
     },
     "execution_count": 5,
     "metadata": {},
     "output_type": "execute_result"
    }
   ],
   "source": [
    "numeros"
   ]
  },
  {
   "cell_type": "markdown",
   "id": "533661af",
   "metadata": {},
   "source": [
    " #### Sin embargo esto no funciona. La forma correcta de hacerlo es haciendo referencia al indice de la lista en lugar de la varibale."
   ]
  },
  {
   "cell_type": "code",
   "execution_count": 6,
   "id": "6e1f1b27",
   "metadata": {},
   "outputs": [
    {
     "data": {
      "text/plain": [
       "[10, 20, 30, 40, 50, 60, 70, 80, 90, 100]"
      ]
     },
     "execution_count": 6,
     "metadata": {},
     "output_type": "execute_result"
    }
   ],
   "source": [
    "indice = 0\n",
    "numeros = [1, 2, 3, 4, 5, 6, 7, 8, 9, 10]\n",
    "for numero in numeros:\n",
    "    numeros[indice] *= 10\n",
    "    indice += 1\n",
    "numeros"
   ]
  },
  {
   "cell_type": "markdown",
   "id": "51ab944f",
   "metadata": {},
   "source": [
    "#### Es posible utilizar la funcion enumerate() para conseguir el indice y el valor en cada iteracion facilmente."
   ]
  },
  {
   "cell_type": "code",
   "execution_count": 7,
   "id": "8ae2377a",
   "metadata": {},
   "outputs": [
    {
     "data": {
      "text/plain": [
       "[10, 20, 30, 40, 50, 60, 70, 80, 90, 100]"
      ]
     },
     "execution_count": 7,
     "metadata": {},
     "output_type": "execute_result"
    }
   ],
   "source": [
    "numeros = [1, 2, 3, 4, 5, 6, 7, 8, 9, 10]\n",
    "for indice, numero in enumerate(numeros):\n",
    "    numeros[indice]*= 10\n",
    "numeros"
   ]
  },
  {
   "cell_type": "markdown",
   "id": "afa044f4",
   "metadata": {},
   "source": [
    "## For con cadenas."
   ]
  },
  {
   "cell_type": "code",
   "execution_count": 8,
   "id": "0ceecc6c",
   "metadata": {},
   "outputs": [
    {
     "name": "stdout",
     "output_type": "stream",
     "text": [
      "H\n",
      "e\n",
      "l\n",
      "l\n",
      "o\n",
      "w\n",
      " \n",
      "W\n",
      "o\n",
      "r\n",
      "l\n",
      "d\n"
     ]
    }
   ],
   "source": [
    "cadena = \"Hellow World\"\n",
    "for caracter in cadena:\n",
    "    print(caracter)"
   ]
  },
  {
   "cell_type": "markdown",
   "id": "35bdb3b3",
   "metadata": {},
   "source": [
    "#### Nota: Es posible recordar que las cadenas son inmutables (no se puden cambiar)\n"
   ]
  },
  {
   "cell_type": "code",
   "execution_count": 9,
   "id": "37718841",
   "metadata": {},
   "outputs": [
    {
     "ename": "TypeError",
     "evalue": "'str' object does not support item assignment",
     "output_type": "error",
     "traceback": [
      "\u001b[0;31m---------------------------------------------------------------------------\u001b[0m",
      "\u001b[0;31mTypeError\u001b[0m                                 Traceback (most recent call last)",
      "Cell \u001b[0;32mIn[9], line 2\u001b[0m\n\u001b[1;32m      1\u001b[0m \u001b[38;5;28;01mfor\u001b[39;00m i, c \u001b[38;5;129;01min\u001b[39;00m \u001b[38;5;28menumerate\u001b[39m(cadena):\n\u001b[0;32m----> 2\u001b[0m     cadena[i]\u001b[38;5;241m=\u001b[39m\u001b[38;5;124m\"\u001b[39m\u001b[38;5;124m*\u001b[39m\u001b[38;5;124m\"\u001b[39m\n",
      "\u001b[0;31mTypeError\u001b[0m: 'str' object does not support item assignment"
     ]
    }
   ],
   "source": [
    "for i, c in enumerate(cadena):\n",
    "    cadena[i]=\"*\""
   ]
  },
  {
   "cell_type": "markdown",
   "id": "85160646",
   "metadata": {},
   "source": [
    "#### Sin embargo simpre se pude generar una cadena nueva :"
   ]
  },
  {
   "cell_type": "code",
   "execution_count": 11,
   "id": "92917c46",
   "metadata": {},
   "outputs": [
    {
     "data": {
      "text/plain": [
       "'Hellow World'"
      ]
     },
     "execution_count": 11,
     "metadata": {},
     "output_type": "execute_result"
    }
   ],
   "source": [
    "cadena2 = \"\"\n",
    "for caracter in cadena:\n",
    "    cadena2 += caracter * 2\n",
    "cadena"
   ]
  },
  {
   "cell_type": "code",
   "execution_count": 12,
   "id": "cdf65e36",
   "metadata": {},
   "outputs": [
    {
     "data": {
      "text/plain": [
       "'HHeellllooww  WWoorrlldd'"
      ]
     },
     "execution_count": 12,
     "metadata": {},
     "output_type": "execute_result"
    }
   ],
   "source": [
    "cadena2"
   ]
  },
  {
   "cell_type": "markdown",
   "id": "449578b4",
   "metadata": {},
   "source": [
    "## La funcion range()."
   ]
  },
  {
   "cell_type": "markdown",
   "id": "7fe1cf17",
   "metadata": {},
   "source": [
    "Sirve para generar una lista de nuemros que se puedan recorrer facilmente, pero no ocupan memoria, por que se interpreta sobre la marcha:"
   ]
  },
  {
   "cell_type": "code",
   "execution_count": 13,
   "id": "80eab328",
   "metadata": {},
   "outputs": [
    {
     "name": "stdout",
     "output_type": "stream",
     "text": [
      "0\n",
      "1\n",
      "2\n",
      "3\n",
      "4\n",
      "5\n",
      "6\n",
      "7\n",
      "8\n",
      "9\n"
     ]
    }
   ],
   "source": [
    "for i in range(10):\n",
    "    print(i)"
   ]
  },
  {
   "cell_type": "code",
   "execution_count": 14,
   "id": "7443d203",
   "metadata": {},
   "outputs": [
    {
     "data": {
      "text/plain": [
       "range(0, 10)"
      ]
     },
     "execution_count": 14,
     "metadata": {},
     "output_type": "execute_result"
    }
   ],
   "source": [
    "range(10)"
   ]
  },
  {
   "cell_type": "code",
   "execution_count": 15,
   "id": "03025dd9",
   "metadata": {},
   "outputs": [
    {
     "name": "stdout",
     "output_type": "stream",
     "text": [
      "0\n",
      "1\n",
      "2\n",
      "3\n",
      "4\n",
      "5\n",
      "6\n",
      "7\n",
      "9\n"
     ]
    }
   ],
   "source": [
    "for i in [0,1,2,3,4,5,6,7,9]:\n",
    "    print(i)"
   ]
  },
  {
   "cell_type": "code",
   "execution_count": 16,
   "id": "d34b356a",
   "metadata": {},
   "outputs": [],
   "source": [
    "#### Si se quiere conseguir lista iteral, es posible transformando el range a una lista"
   ]
  },
  {
   "cell_type": "code",
   "execution_count": 17,
   "id": "9ba75887",
   "metadata": {},
   "outputs": [
    {
     "data": {
      "text/plain": [
       "[0, 1, 2, 3, 4, 5, 6, 7, 8, 9]"
      ]
     },
     "execution_count": 17,
     "metadata": {},
     "output_type": "execute_result"
    }
   ],
   "source": [
    "list(range(10))"
   ]
  },
  {
   "cell_type": "code",
   "execution_count": null,
   "id": "8c7924d0",
   "metadata": {},
   "outputs": [],
   "source": []
  }
 ],
 "metadata": {
  "kernelspec": {
   "display_name": "Python 3 (ipykernel)",
   "language": "python",
   "name": "python3"
  },
  "language_info": {
   "codemirror_mode": {
    "name": "ipython",
    "version": 3
   },
   "file_extension": ".py",
   "mimetype": "text/x-python",
   "name": "python",
   "nbconvert_exporter": "python",
   "pygments_lexer": "ipython3",
   "version": "3.9.16"
  }
 },
 "nbformat": 4,
 "nbformat_minor": 5
}
